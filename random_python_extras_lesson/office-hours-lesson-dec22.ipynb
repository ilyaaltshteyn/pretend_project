{
 "cells": [
  {
   "cell_type": "markdown",
   "metadata": {},
   "source": [
    "**\"Office hours lesson\" on 2 python techniques, and using them to do useful stuff in pandas:**\n",
    "\n",
    "1. Iterating over pairs of variables, and how to use that to iterate over pandas rows\n",
    "2. \"Functions are first class objects\", and the APPLY method in pandas\n",
    "\n",
    "##### Result from google:\n",
    "<img src=\"google_search_result.png\" width=\"700\"/>\n"
   ]
  },
  {
   "cell_type": "code",
   "execution_count": null,
   "metadata": {},
   "outputs": [],
   "source": [
    "import pandas as pd\n",
    "\n",
    "df = pd.read_csv('last_words_data.csv')\n",
    "df.head()"
   ]
  },
  {
   "cell_type": "markdown",
   "metadata": {},
   "source": [
    "### Part 1: Iterating over pairs of variables, and how to use that to iterate over pandas rows"
   ]
  },
  {
   "cell_type": "code",
   "execution_count": null,
   "metadata": {},
   "outputs": [],
   "source": [
    "# create a list of lists, where each inner list has 2 items in it-- first name and last name\n",
    "\n",
    "# iterate over list of lists to print"
   ]
  },
  {
   "cell_type": "code",
   "execution_count": null,
   "metadata": {},
   "outputs": [],
   "source": [
    "# iterate over all rows in the dataset using iterrows\n",
    "\n",
    "\n",
    "# add to above: for each row, check if the word \"love\" is in the 'last_statements' column\n",
    "# add to above: for each row, check how many words are in the statement\n",
    "# save results to new column"
   ]
  },
  {
   "cell_type": "markdown",
   "metadata": {},
   "source": [
    "### Part 2: \"Functions are first class objects\", and the APPLY method in pandas"
   ]
  },
  {
   "cell_type": "code",
   "execution_count": 4,
   "metadata": {},
   "outputs": [],
   "source": [
    "# Define 3 functions\n",
    "\n",
    "# Store functions in a list\n",
    "\n",
    "# Iterate over the functions and call each one"
   ]
  },
  {
   "cell_type": "code",
   "execution_count": 6,
   "metadata": {},
   "outputs": [],
   "source": [
    "# define a function that represents whether or not the word \"love\" is in the datapoint\n",
    "\n",
    "# apply that function to df['last_statements']\n",
    "\n",
    "# save result to new column\n",
    "\n",
    "# repeat with function that counts the words in each statement"
   ]
  },
  {
   "cell_type": "code",
   "execution_count": null,
   "metadata": {},
   "outputs": [],
   "source": []
  }
 ],
 "metadata": {
  "kernelspec": {
   "display_name": "Python 3",
   "language": "python",
   "name": "python3"
  },
  "language_info": {
   "codemirror_mode": {
    "name": "ipython",
    "version": 3
   },
   "file_extension": ".py",
   "mimetype": "text/x-python",
   "name": "python",
   "nbconvert_exporter": "python",
   "pygments_lexer": "ipython3",
   "version": "3.7.7"
  }
 },
 "nbformat": 4,
 "nbformat_minor": 2
}
